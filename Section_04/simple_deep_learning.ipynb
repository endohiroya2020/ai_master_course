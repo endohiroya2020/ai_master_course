{
  "nbformat": 4,
  "nbformat_minor": 0,
  "metadata": {
    "colab": {
      "name": "simple_deep_learning.ipynb",
      "provenance": [],
      "collapsed_sections": [],
      "include_colab_link": true
    },
    "kernelspec": {
      "name": "python3",
      "display_name": "Python 3"
    }
  },
  "cells": [
    {
      "cell_type": "markdown",
      "metadata": {
        "id": "view-in-github",
        "colab_type": "text"
      },
      "source": [
        "<a href=\"https://colab.research.google.com/github/endohiroya2020/colab_sample/blob/master/Section_04/simple_deep_learning.ipynb\" target=\"_parent\"><img src=\"https://colab.research.google.com/assets/colab-badge.svg\" alt=\"Open In Colab\"/></a>"
      ]
    },
    {
      "cell_type": "markdown",
      "metadata": {
        "id": "hhIoNQe4a84i",
        "colab_type": "text"
      },
      "source": [
        "# シンプルなディープラーニング\n",
        "Kerasを使って、最小限のディープラーニングを実装します。"
      ]
    },
    {
      "cell_type": "markdown",
      "metadata": {
        "id": "B-ECLOtv89nP",
        "colab_type": "text"
      },
      "source": [
        "## データの読み込み\n",
        "Irisデータセットを読み込みます。  \n",
        "https://scikit-learn.org/stable/auto_examples/datasets/plot_iris_dataset.html"
      ]
    },
    {
      "cell_type": "code",
      "metadata": {
        "id": "CyzqJCBE3if_",
        "colab_type": "code",
        "outputId": "810815bd-47b7-4c72-ab5c-e11c58e66fa9",
        "colab": {
          "base_uri": "https://localhost:8080/",
          "height": 221
        }
      },
      "source": [
        "import numpy as np\n",
        "from sklearn import datasets\n",
        "\n",
        "iris = datasets.load_iris()\n",
        "print(iris.data[:10])  # データを10個表示\n",
        "print(iris.target[:10])  # ラベルを10個表示\n",
        "print(iris.data.shape)  # データの形状を表示"
      ],
      "execution_count": 0,
      "outputs": [
        {
          "output_type": "stream",
          "text": [
            "[[5.1 3.5 1.4 0.2]\n",
            " [4.9 3.  1.4 0.2]\n",
            " [4.7 3.2 1.3 0.2]\n",
            " [4.6 3.1 1.5 0.2]\n",
            " [5.  3.6 1.4 0.2]\n",
            " [5.4 3.9 1.7 0.4]\n",
            " [4.6 3.4 1.4 0.3]\n",
            " [5.  3.4 1.5 0.2]\n",
            " [4.4 2.9 1.4 0.2]\n",
            " [4.9 3.1 1.5 0.1]]\n",
            "[0 0 0 0 0 0 0 0 0 0]\n",
            "(150, 4)\n"
          ],
          "name": "stdout"
        }
      ]
    },
    {
      "cell_type": "markdown",
      "metadata": {
        "id": "NZb0g94VxhvQ",
        "colab_type": "text"
      },
      "source": [
        "## データの前処理\n",
        "データの前処理として、標準化を行います。  \n",
        "標準化は、平均値が0、標準偏差が1になるように変換する処理です。  \n",
        "https://scikit-learn.org/stable/modules/preprocessing.html  \n",
        "  \n",
        "ラベルをone-hot表現に変換します。  \n",
        "one-hot表現は、一箇所だけ1で残りは０の配列です。  \n",
        "https://keras.io/ja/utils/np_utils/"
      ]
    },
    {
      "cell_type": "code",
      "metadata": {
        "id": "IvCh14ckLYNV",
        "colab_type": "code",
        "outputId": "b7a529ab-fb7a-4396-bc9c-5e2bdff6e864",
        "colab": {
          "base_uri": "https://localhost:8080/",
          "height": 374
        }
      },
      "source": [
        "from sklearn import preprocessing\n",
        "from keras.utils import np_utils\n",
        "\n",
        "scaler = preprocessing.StandardScaler()  # 標準化のためのスケーラー\n",
        "scaler.fit(iris.data)  # パラメータの計算\n",
        "x = scaler.transform(iris.data)  # データの変換\n",
        "print(x[:10])\n",
        "\n",
        "t = np_utils.to_categorical(iris.target)  # ラベルをone-hot表現に変換\n",
        "print(t[:10])"
      ],
      "execution_count": 0,
      "outputs": [
        {
          "output_type": "stream",
          "text": [
            "Using TensorFlow backend.\n"
          ],
          "name": "stderr"
        },
        {
          "output_type": "stream",
          "text": [
            "[[-0.90068117  1.01900435 -1.34022653 -1.3154443 ]\n",
            " [-1.14301691 -0.13197948 -1.34022653 -1.3154443 ]\n",
            " [-1.38535265  0.32841405 -1.39706395 -1.3154443 ]\n",
            " [-1.50652052  0.09821729 -1.2833891  -1.3154443 ]\n",
            " [-1.02184904  1.24920112 -1.34022653 -1.3154443 ]\n",
            " [-0.53717756  1.93979142 -1.16971425 -1.05217993]\n",
            " [-1.50652052  0.78880759 -1.34022653 -1.18381211]\n",
            " [-1.02184904  0.78880759 -1.2833891  -1.3154443 ]\n",
            " [-1.74885626 -0.36217625 -1.34022653 -1.3154443 ]\n",
            " [-1.14301691  0.09821729 -1.2833891  -1.44707648]]\n",
            "[[1. 0. 0.]\n",
            " [1. 0. 0.]\n",
            " [1. 0. 0.]\n",
            " [1. 0. 0.]\n",
            " [1. 0. 0.]\n",
            " [1. 0. 0.]\n",
            " [1. 0. 0.]\n",
            " [1. 0. 0.]\n",
            " [1. 0. 0.]\n",
            " [1. 0. 0.]]\n"
          ],
          "name": "stdout"
        }
      ]
    },
    {
      "cell_type": "markdown",
      "metadata": {
        "id": "VqcsbayqB7N_",
        "colab_type": "text"
      },
      "source": [
        "## 訓練データとテストデータ\n",
        "データを訓練用のデータとテスト用のデータに分割します。  \n",
        "https://scikit-learn.org/stable/modules/generated/sklearn.model_selection.train_test_split.html"
      ]
    },
    {
      "cell_type": "code",
      "metadata": {
        "id": "Bcrf7UpKAuFM",
        "colab_type": "code",
        "colab": {}
      },
      "source": [
        "from sklearn.model_selection import train_test_split\n",
        "\n",
        "# x_train: 訓練用の入力データ\n",
        "# x_test: テスト用の入力データ\n",
        "# t_train: 訓練用の正解データ\n",
        "# t_test: テスト用の正解データ\n",
        "# train_size=0.75: 75%が訓練用、25%がテスト用\n",
        "x_train, x_test, t_train, t_test = train_test_split(x, t, train_size=0.75)"
      ],
      "execution_count": 0,
      "outputs": []
    },
    {
      "cell_type": "markdown",
      "metadata": {
        "id": "seSnEh1h81_O",
        "colab_type": "text"
      },
      "source": [
        "## モデルの構築\n",
        "4層からなる、シンプルなディープラーニングのモデルを構築します。  \n",
        "**Sequentilal**: 単純に層を積み重ねるモデル  \n",
        "https://keras.io/ja/models/sequential/\n",
        "\n",
        "**Dense**: 全結合層  \n",
        "https://keras.io/ja/layers/core/#dense  \n",
        "\n",
        "**Activation**: 活性化関数  \n",
        "https://keras.io/ja/layers/core/#activation  "
      ]
    },
    {
      "cell_type": "code",
      "metadata": {
        "id": "h2D07ONQ82Sf",
        "colab_type": "code",
        "outputId": "a164da08-43cd-4c7c-e4fd-430ad51d4a79",
        "colab": {
          "base_uri": "https://localhost:8080/",
          "height": 564
        }
      },
      "source": [
        "from keras.models import Sequential\n",
        "from keras.layers import Dense, Activation\n",
        "\n",
        "model = Sequential()\n",
        "model.add(Dense(32, input_dim=4)) # 4つの特徴が入力なので、入力層のニューロン数は4、中間層のニューロン数は32\n",
        "model.add(Activation('relu')) # 活性化関数（ReLU）を追加\n",
        "model.add(Dense(32)) # ニューロン数32の全結合層を追加\n",
        "model.add(Activation('relu')) # 活性化関数（ReLU）を追加\n",
        "model.add(Dense(3)) # 3つに分類するので、出力層のニューロン数は3\n",
        "model.add(Activation('softmax')) # 3つ以上の分類にはソフトマックス関数を使用\n",
        "model.compile(optimizer='sgd',loss='categorical_crossentropy',metrics=['accuracy']) # モデルのコンパイル\n",
        "\n",
        "print(model.summary())"
      ],
      "execution_count": 0,
      "outputs": [
        {
          "output_type": "stream",
          "text": [
            "WARNING:tensorflow:From /usr/local/lib/python3.6/dist-packages/keras/backend/tensorflow_backend.py:66: The name tf.get_default_graph is deprecated. Please use tf.compat.v1.get_default_graph instead.\n",
            "\n",
            "WARNING:tensorflow:From /usr/local/lib/python3.6/dist-packages/keras/backend/tensorflow_backend.py:541: The name tf.placeholder is deprecated. Please use tf.compat.v1.placeholder instead.\n",
            "\n",
            "WARNING:tensorflow:From /usr/local/lib/python3.6/dist-packages/keras/backend/tensorflow_backend.py:4432: The name tf.random_uniform is deprecated. Please use tf.random.uniform instead.\n",
            "\n",
            "WARNING:tensorflow:From /usr/local/lib/python3.6/dist-packages/keras/optimizers.py:793: The name tf.train.Optimizer is deprecated. Please use tf.compat.v1.train.Optimizer instead.\n",
            "\n",
            "WARNING:tensorflow:From /usr/local/lib/python3.6/dist-packages/keras/backend/tensorflow_backend.py:3576: The name tf.log is deprecated. Please use tf.math.log instead.\n",
            "\n",
            "Model: \"sequential_1\"\n",
            "_________________________________________________________________\n",
            "Layer (type)                 Output Shape              Param #   \n",
            "=================================================================\n",
            "dense_1 (Dense)              (None, 32)                160       \n",
            "_________________________________________________________________\n",
            "activation_1 (Activation)    (None, 32)                0         \n",
            "_________________________________________________________________\n",
            "dense_2 (Dense)              (None, 32)                1056      \n",
            "_________________________________________________________________\n",
            "activation_2 (Activation)    (None, 32)                0         \n",
            "_________________________________________________________________\n",
            "dense_3 (Dense)              (None, 3)                 99        \n",
            "_________________________________________________________________\n",
            "activation_3 (Activation)    (None, 3)                 0         \n",
            "=================================================================\n",
            "Total params: 1,315\n",
            "Trainable params: 1,315\n",
            "Non-trainable params: 0\n",
            "_________________________________________________________________\n",
            "None\n"
          ],
          "name": "stdout"
        }
      ]
    },
    {
      "cell_type": "markdown",
      "metadata": {
        "id": "fe0ayRSi_I9t",
        "colab_type": "text"
      },
      "source": [
        "## 学習\n",
        "訓練用の入力データと正解データを使って、モデルを訓練します。  \n",
        "**fit**: モデルを訓練する  \n",
        "https://keras.io/ja/models/sequential/#fit  "
      ]
    },
    {
      "cell_type": "code",
      "metadata": {
        "id": "9GFCnKqR_Qpj",
        "colab_type": "code",
        "outputId": "67a32096-f8fa-4553-b418-260f21c88b34",
        "colab": {
          "base_uri": "https://localhost:8080/",
          "height": 1000
        }
      },
      "source": [
        "history = model.fit(x_train, t_train, nb_epoch=30, batch_size=8)"
      ],
      "execution_count": 0,
      "outputs": [
        {
          "output_type": "stream",
          "text": [
            "WARNING:tensorflow:From /usr/local/lib/python3.6/dist-packages/tensorflow/python/ops/math_grad.py:1250: add_dispatch_support.<locals>.wrapper (from tensorflow.python.ops.array_ops) is deprecated and will be removed in a future version.\n",
            "Instructions for updating:\n",
            "Use tf.where in 2.0, which has the same broadcast rule as np.where\n",
            "WARNING:tensorflow:From /usr/local/lib/python3.6/dist-packages/keras/backend/tensorflow_backend.py:1033: The name tf.assign_add is deprecated. Please use tf.compat.v1.assign_add instead.\n",
            "\n"
          ],
          "name": "stdout"
        },
        {
          "output_type": "stream",
          "text": [
            "/usr/local/lib/python3.6/dist-packages/ipykernel_launcher.py:1: UserWarning: The `nb_epoch` argument in `fit` has been renamed `epochs`.\n",
            "  \"\"\"Entry point for launching an IPython kernel.\n"
          ],
          "name": "stderr"
        },
        {
          "output_type": "stream",
          "text": [
            "Epoch 1/30\n",
            "112/112 [==============================] - 1s 6ms/step - loss: 1.0557 - acc: 0.3482\n",
            "Epoch 2/30\n",
            "112/112 [==============================] - 0s 178us/step - loss: 0.9345 - acc: 0.4911\n",
            "Epoch 3/30\n",
            "112/112 [==============================] - 0s 173us/step - loss: 0.8435 - acc: 0.6696\n",
            "Epoch 4/30\n",
            "112/112 [==============================] - 0s 206us/step - loss: 0.7692 - acc: 0.7054\n",
            "Epoch 5/30\n",
            "112/112 [==============================] - 0s 158us/step - loss: 0.7076 - acc: 0.7411\n",
            "Epoch 6/30\n",
            "112/112 [==============================] - 0s 142us/step - loss: 0.6553 - acc: 0.7768\n",
            "Epoch 7/30\n",
            "112/112 [==============================] - 0s 145us/step - loss: 0.6119 - acc: 0.8125\n",
            "Epoch 8/30\n",
            "112/112 [==============================] - 0s 142us/step - loss: 0.5738 - acc: 0.8393\n",
            "Epoch 9/30\n",
            "112/112 [==============================] - 0s 145us/step - loss: 0.5407 - acc: 0.8571\n",
            "Epoch 10/30\n",
            "112/112 [==============================] - 0s 146us/step - loss: 0.5121 - acc: 0.8839\n",
            "Epoch 11/30\n",
            "112/112 [==============================] - 0s 160us/step - loss: 0.4864 - acc: 0.8839\n",
            "Epoch 12/30\n",
            "112/112 [==============================] - 0s 148us/step - loss: 0.4641 - acc: 0.8839\n",
            "Epoch 13/30\n",
            "112/112 [==============================] - 0s 147us/step - loss: 0.4440 - acc: 0.8839\n",
            "Epoch 14/30\n",
            "112/112 [==============================] - 0s 147us/step - loss: 0.4262 - acc: 0.8839\n",
            "Epoch 15/30\n",
            "112/112 [==============================] - 0s 147us/step - loss: 0.4096 - acc: 0.8839\n",
            "Epoch 16/30\n",
            "112/112 [==============================] - 0s 156us/step - loss: 0.3940 - acc: 0.8929\n",
            "Epoch 17/30\n",
            "112/112 [==============================] - 0s 155us/step - loss: 0.3804 - acc: 0.9018\n",
            "Epoch 18/30\n",
            "112/112 [==============================] - 0s 159us/step - loss: 0.3676 - acc: 0.9107\n",
            "Epoch 19/30\n",
            "112/112 [==============================] - 0s 133us/step - loss: 0.3559 - acc: 0.9107\n",
            "Epoch 20/30\n",
            "112/112 [==============================] - 0s 139us/step - loss: 0.3445 - acc: 0.9196\n",
            "Epoch 21/30\n",
            "112/112 [==============================] - 0s 146us/step - loss: 0.3344 - acc: 0.9107\n",
            "Epoch 22/30\n",
            "112/112 [==============================] - 0s 145us/step - loss: 0.3246 - acc: 0.9196\n",
            "Epoch 23/30\n",
            "112/112 [==============================] - 0s 166us/step - loss: 0.3152 - acc: 0.9196\n",
            "Epoch 24/30\n",
            "112/112 [==============================] - 0s 156us/step - loss: 0.3069 - acc: 0.9196\n",
            "Epoch 25/30\n",
            "112/112 [==============================] - 0s 160us/step - loss: 0.2988 - acc: 0.9196\n",
            "Epoch 26/30\n",
            "112/112 [==============================] - 0s 159us/step - loss: 0.2911 - acc: 0.9196\n",
            "Epoch 27/30\n",
            "112/112 [==============================] - 0s 154us/step - loss: 0.2839 - acc: 0.9286\n",
            "Epoch 28/30\n",
            "112/112 [==============================] - 0s 157us/step - loss: 0.2765 - acc: 0.9375\n",
            "Epoch 29/30\n",
            "112/112 [==============================] - 0s 156us/step - loss: 0.2699 - acc: 0.9375\n",
            "Epoch 30/30\n",
            "112/112 [==============================] - 0s 154us/step - loss: 0.2632 - acc: 0.9375\n"
          ],
          "name": "stdout"
        }
      ]
    },
    {
      "cell_type": "markdown",
      "metadata": {
        "id": "A29cxq1qGYq2",
        "colab_type": "text"
      },
      "source": [
        "## 学習の推移\n",
        "Historyには学習の経過が記録されています。  \n",
        "これを使って、学習の推移を表示します。"
      ]
    },
    {
      "cell_type": "code",
      "metadata": {
        "id": "bL97UMnRGY9V",
        "colab_type": "code",
        "outputId": "48242a34-2a03-4f59-ac1a-bb55e5c428c8",
        "colab": {
          "base_uri": "https://localhost:8080/",
          "height": 269
        }
      },
      "source": [
        "import matplotlib.pyplot as plt\n",
        "\n",
        "hist_loss = history.history['loss']  # 訓練用データの誤差\n",
        "hist_acc = history.history['acc']  # 検証用データの誤差\n",
        "\n",
        "plt.plot(np.arange(len(hist_loss)), hist_loss, label='loss')\n",
        "plt.plot(np.arange(len(hist_acc)), hist_acc, label='acc')\n",
        "plt.legend()\n",
        "plt.show()"
      ],
      "execution_count": 0,
      "outputs": [
        {
          "output_type": "display_data",
          "data": {
            "image/png": "[encoded data removed]",
            "text/plain": [
              "<Figure size 432x288 with 1 Axes>"
            ]
          },
          "metadata": {
            "tags": []
          }
        }
      ]
    },
    {
      "cell_type": "markdown",
      "metadata": {
        "id": "0bKt6ksiBewH",
        "colab_type": "text"
      },
      "source": [
        "## 評価\n",
        "モデルの評価を行います。  \n",
        "**evaluate**: 入力、正解データから誤差などを計算します。  \n",
        "https://keras.io/ja/models/sequential/#evaluate"
      ]
    },
    {
      "cell_type": "code",
      "metadata": {
        "id": "jTsGsQoQCdhe",
        "colab_type": "code",
        "outputId": "f4291a24-aa41-4d18-ceb9-d660384c9e6b",
        "colab": {
          "base_uri": "https://localhost:8080/",
          "height": 51
        }
      },
      "source": [
        "loss, accuracy = model.evaluate(x_test, t_test)\n",
        "print(loss, accuracy)"
      ],
      "execution_count": 0,
      "outputs": [
        {
          "output_type": "stream",
          "text": [
            "38/38 [==============================] - 0s 903us/step\n",
            "0.3282443771236821 0.8684210494944924\n"
          ],
          "name": "stdout"
        }
      ]
    },
    {
      "cell_type": "markdown",
      "metadata": {
        "id": "5ewSyftmChON",
        "colab_type": "text"
      },
      "source": [
        "## 予測\n",
        "学習済みのモデルを使って予測を行います。  \n",
        "**predict**: モデルを使って入力を出力に変換します。  \n",
        "https://keras.io/ja/models/sequential/#predict"
      ]
    },
    {
      "cell_type": "code",
      "metadata": {
        "id": "nIURso4FDPKt",
        "colab_type": "code",
        "outputId": "b96a56cf-b68b-4107-a71f-6a428897657c",
        "colab": {
          "base_uri": "https://localhost:8080/",
          "height": 663
        }
      },
      "source": [
        "model.predict(x_test)"
      ],
      "execution_count": 0,
      "outputs": [
        {
          "output_type": "execute_result",
          "data": {
            "text/plain": [
              "array([[0.06819081, 0.53431284, 0.39749637],\n",
              "       [0.01731463, 0.11509497, 0.86759037],\n",
              "       [0.97945684, 0.01228396, 0.00825917],\n",
              "       [0.01805708, 0.78224826, 0.19969466],\n",
              "       [0.00728706, 0.11768564, 0.87502736],\n",
              "       [0.9737126 , 0.01640844, 0.00987898],\n",
              "       [0.1001016 , 0.763314  , 0.13658436],\n",
              "       [0.00623987, 0.08997995, 0.90378016],\n",
              "       [0.96246684, 0.02288992, 0.01464323],\n",
              "       [0.03586924, 0.60135406, 0.3627767 ],\n",
              "       [0.13786708, 0.5087224 , 0.3534105 ],\n",
              "       [0.9888075 , 0.00659459, 0.00459786],\n",
              "       [0.01548022, 0.7101129 , 0.2744068 ],\n",
              "       [0.0343384 , 0.48352715, 0.48213452],\n",
              "       [0.01066923, 0.10392909, 0.88540167],\n",
              "       [0.9949498 , 0.00284173, 0.00220847],\n",
              "       [0.10337743, 0.72532773, 0.17129482],\n",
              "       [0.00407149, 0.06398914, 0.93193936],\n",
              "       [0.21430697, 0.3836664 , 0.4020266 ],\n",
              "       [0.983567  , 0.00991857, 0.00651447],\n",
              "       [0.09792812, 0.52386445, 0.37820745],\n",
              "       [0.08577497, 0.6417596 , 0.2724655 ],\n",
              "       [0.00816263, 0.15932633, 0.83251107],\n",
              "       [0.08143882, 0.7796691 , 0.13889205],\n",
              "       [0.9744159 , 0.01614237, 0.00944174],\n",
              "       [0.9949596 , 0.00278508, 0.00225537],\n",
              "       [0.9658386 , 0.02198066, 0.01218065],\n",
              "       [0.07103699, 0.78196836, 0.1469947 ],\n",
              "       [0.06530558, 0.49775645, 0.436938  ],\n",
              "       [0.01504857, 0.1763376 , 0.8086138 ],\n",
              "       [0.00421759, 0.06316359, 0.93261886],\n",
              "       [0.02886316, 0.5463808 , 0.42475602],\n",
              "       [0.03852234, 0.30716234, 0.65431535],\n",
              "       [0.9821599 , 0.010754  , 0.00708604],\n",
              "       [0.97312874, 0.01660293, 0.01026839],\n",
              "       [0.1003198 , 0.43228844, 0.46739182],\n",
              "       [0.05479012, 0.5612352 , 0.3839747 ],\n",
              "       [0.01038072, 0.08386195, 0.9057573 ]], dtype=float32)"
            ]
          },
          "metadata": {
            "tags": []
          },
          "execution_count": 9
        }
      ]
    },
    {
      "cell_type": "markdown",
      "metadata": {
        "id": "UYDFfPrzIVQ4",
        "colab_type": "text"
      },
      "source": [
        "## モデルの保存\n",
        "学習済みのモデルを保存します。  \n",
        "**save**: モデルを保存します。  \n",
        "**load_model**: 保存されたモデルを読み込みます。    \n",
        "https://keras.io/ja/getting-started/faq/#_4  "
      ]
    },
    {
      "cell_type": "code",
      "metadata": {
        "id": "9bfmNLLYIW7m",
        "colab_type": "code",
        "outputId": "117a19d1-438f-4d3f-d2f2-944a608302dd",
        "colab": {
          "base_uri": "https://localhost:8080/",
          "height": 34
        }
      },
      "source": [
        "from keras.models import load_model\n",
        "\n",
        "model.save('model.h5')\n",
        "load_model('model.h5')"
      ],
      "execution_count": 0,
      "outputs": [
        {
          "output_type": "execute_result",
          "data": {
            "text/plain": [
              "<keras.engine.sequential.Sequential at 0x7fdb0438fa90>"
            ]
          },
          "metadata": {
            "tags": []
          },
          "execution_count": 10
        }
      ]
    },
    {
      "cell_type": "code",
      "metadata": {
        "id": "rvRx4E-RWD5p",
        "colab_type": "code",
        "colab": {}
      },
      "source": [
        ""
      ],
      "execution_count": 0,
      "outputs": []
    }
  ]
}