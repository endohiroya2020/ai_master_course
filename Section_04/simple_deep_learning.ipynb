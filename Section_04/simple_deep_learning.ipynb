{
  "nbformat": 4,
  "nbformat_minor": 0,
  "metadata": {
    "colab": {
      "name": "simple_deep_learning.ipynb",
      "provenance": [],
      "collapsed_sections": [],
      "include_colab_link": true
    },
    "kernelspec": {
      "name": "python3",
      "display_name": "Python 3"
    }
  },
  "cells": [
    {
      "cell_type": "markdown",
      "metadata": {
        "id": "view-in-github",
        "colab_type": "text"
      },
      "source": [
        "<a href=\"https://colab.research.google.com/github/endohiroya2020/colab_sample/blob/master/Section_04/simple_deep_learning.ipynb\" target=\"_parent\"><img src=\"https://colab.research.google.com/assets/colab-badge.svg\" alt=\"Open In Colab\"/></a>"
      ]
    },
    {
      "cell_type": "markdown",
      "metadata": {
        "id": "hhIoNQe4a84i",
        "colab_type": "text"
      },
      "source": [
        "# シンプルなディープラーニング\n",
        "Kerasを使って、最小限のディープラーニングを実装します。"
      ]
    },
    {
      "cell_type": "markdown",
      "metadata": {
        "id": "B-ECLOtv89nP",
        "colab_type": "text"
      },
      "source": [
        "## データの読み込み\n",
        "Irisデータセットを読み込みます。  \n",
        "https://scikit-learn.org/stable/auto_examples/datasets/plot_iris_dataset.html"
      ]
    },
    {
      "cell_type": "code",
      "metadata": {
        "id": "CyzqJCBE3if_",
        "colab_type": "code",
        "outputId": "1d8fc214-2343-4e22-e9d4-601855f8be2a",
        "colab": {
          "base_uri": "https://localhost:8080/",
          "height": 221
        }
      },
      "source": [
        "import numpy as np\n",
        "from sklearn import datasets\n",
        "\n",
        "iris = datasets.load_iris()\n",
        "print(iris.data[:10])  # データを10個表示\n",
        "print(iris.target[:10])  # ラベルを10個表示\n",
        "print(iris.data.shape)  # データの形状を表示"
      ],
      "execution_count": 1,
      "outputs": [
        {
          "output_type": "stream",
          "text": [
            "[[5.1 3.5 1.4 0.2]\n",
            " [4.9 3.  1.4 0.2]\n",
            " [4.7 3.2 1.3 0.2]\n",
            " [4.6 3.1 1.5 0.2]\n",
            " [5.  3.6 1.4 0.2]\n",
            " [5.4 3.9 1.7 0.4]\n",
            " [4.6 3.4 1.4 0.3]\n",
            " [5.  3.4 1.5 0.2]\n",
            " [4.4 2.9 1.4 0.2]\n",
            " [4.9 3.1 1.5 0.1]]\n",
            "[0 0 0 0 0 0 0 0 0 0]\n",
            "(150, 4)\n"
          ],
          "name": "stdout"
        }
      ]
    },
    {
      "cell_type": "markdown",
      "metadata": {
        "id": "NZb0g94VxhvQ",
        "colab_type": "text"
      },
      "source": [
        "## データの前処理\n",
        "データの前処理として、標準化を行います。  \n",
        "標準化は、平均値が0、標準偏差が1になるように変換する処理です。  \n",
        "https://scikit-learn.org/stable/modules/preprocessing.html  \n",
        "  \n",
        "ラベルをone-hot表現に変換します。  \n",
        "one-hot表現は、一箇所だけ1で残りは０の配列です。  \n",
        "https://keras.io/ja/utils/np_utils/"
      ]
    },
    {
      "cell_type": "code",
      "metadata": {
        "id": "IvCh14ckLYNV",
        "colab_type": "code",
        "outputId": "b2a13706-2098-4894-e80f-9a8f2c050d07",
        "colab": {
          "base_uri": "https://localhost:8080/",
          "height": 374
        }
      },
      "source": [
        "from sklearn import preprocessing\n",
        "from keras.utils import np_utils\n",
        "\n",
        "scaler = preprocessing.StandardScaler()  # 標準化のためのスケーラー\n",
        "scaler.fit(iris.data)  # パラメータの計算\n",
        "x = scaler.transform(iris.data)  # データの変換\n",
        "print(x[:10])\n",
        "\n",
        "t = np_utils.to_categorical(iris.target)  # ラベルをone-hot表現に変換\n",
        "print(t[:10])"
      ],
      "execution_count": 2,
      "outputs": [
        {
          "output_type": "stream",
          "text": [
            "Using TensorFlow backend.\n"
          ],
          "name": "stderr"
        },
        {
          "output_type": "stream",
          "text": [
            "[[-0.90068117  1.01900435 -1.34022653 -1.3154443 ]\n",
            " [-1.14301691 -0.13197948 -1.34022653 -1.3154443 ]\n",
            " [-1.38535265  0.32841405 -1.39706395 -1.3154443 ]\n",
            " [-1.50652052  0.09821729 -1.2833891  -1.3154443 ]\n",
            " [-1.02184904  1.24920112 -1.34022653 -1.3154443 ]\n",
            " [-0.53717756  1.93979142 -1.16971425 -1.05217993]\n",
            " [-1.50652052  0.78880759 -1.34022653 -1.18381211]\n",
            " [-1.02184904  0.78880759 -1.2833891  -1.3154443 ]\n",
            " [-1.74885626 -0.36217625 -1.34022653 -1.3154443 ]\n",
            " [-1.14301691  0.09821729 -1.2833891  -1.44707648]]\n",
            "[[1. 0. 0.]\n",
            " [1. 0. 0.]\n",
            " [1. 0. 0.]\n",
            " [1. 0. 0.]\n",
            " [1. 0. 0.]\n",
            " [1. 0. 0.]\n",
            " [1. 0. 0.]\n",
            " [1. 0. 0.]\n",
            " [1. 0. 0.]\n",
            " [1. 0. 0.]]\n"
          ],
          "name": "stdout"
        }
      ]
    },
    {
      "cell_type": "markdown",
      "metadata": {
        "id": "VqcsbayqB7N_",
        "colab_type": "text"
      },
      "source": [
        "## 訓練データとテストデータ\n",
        "データを訓練用のデータとテスト用のデータに分割します。  \n",
        "https://scikit-learn.org/stable/modules/generated/sklearn.model_selection.train_test_split.html"
      ]
    },
    {
      "cell_type": "code",
      "metadata": {
        "id": "Bcrf7UpKAuFM",
        "colab_type": "code",
        "colab": {
          "base_uri": "https://localhost:8080/",
          "height": 51
        },
        "outputId": "c1ead427-089b-47a1-8a03-718bad15931d"
      },
      "source": [
        "from sklearn.model_selection import train_test_split\n",
        "\n",
        "# x_train: 訓練用の入力データ\n",
        "# x_test: テスト用の入力データ\n",
        "# t_train: 訓練用の正解データ\n",
        "# t_test: テスト用の正解データ\n",
        "# train_size=0.75: 75%が訓練用、25%がテスト用\n",
        "x_train, x_test, t_train, t_test = train_test_split(x, t, train_size=0.75)\n",
        "print(x_train.shape)\n",
        "print(x_test.shape)"
      ],
      "execution_count": 4,
      "outputs": [
        {
          "output_type": "stream",
          "text": [
            "(112, 4)\n",
            "(38, 4)\n"
          ],
          "name": "stdout"
        }
      ]
    },
    {
      "cell_type": "markdown",
      "metadata": {
        "id": "seSnEh1h81_O",
        "colab_type": "text"
      },
      "source": [
        "## モデルの構築\n",
        "4層からなる、シンプルなディープラーニングのモデルを構築します。  \n",
        "**Sequentilal**: 単純に層を積み重ねるモデル  \n",
        "https://keras.io/ja/models/sequential/\n",
        "\n",
        "**Dense**: 全結合層  \n",
        "https://keras.io/ja/layers/core/#dense  \n",
        "\n",
        "**Activation**: 活性化関数  \n",
        "https://keras.io/ja/layers/core/#activation  "
      ]
    },
    {
      "cell_type": "code",
      "metadata": {
        "id": "h2D07ONQ82Sf",
        "colab_type": "code",
        "outputId": "f521f517-3011-4afe-bc12-343770caae18",
        "colab": {
          "base_uri": "https://localhost:8080/",
          "height": 374
        }
      },
      "source": [
        "from keras.models import Sequential\n",
        "from keras.layers import Dense, Activation\n",
        "\n",
        "model = Sequential()\n",
        "model.add(Dense(32, input_dim=4)) # 4つの特徴が入力なので、入力層のニューロン数は4、中間層のニューロン数は32\n",
        "model.add(Activation('relu')) # 活性化関数（ReLU）を追加\n",
        "model.add(Dense(32)) # ニューロン数32の全結合層を追加\n",
        "model.add(Activation('relu')) # 活性化関数（ReLU）を追加\n",
        "model.add(Dense(3)) # 3つに分類するので、出力層のニューロン数は3\n",
        "model.add(Activation('softmax')) # 3つ以上の分類にはソフトマックス関数を使用\n",
        "model.compile(optimizer='sgd',loss='categorical_crossentropy',metrics=['acc']) # モデルのコンパイル\n",
        "\n",
        "print(model.summary())"
      ],
      "execution_count": 17,
      "outputs": [
        {
          "output_type": "stream",
          "text": [
            "Model: \"sequential_3\"\n",
            "_________________________________________________________________\n",
            "Layer (type)                 Output Shape              Param #   \n",
            "=================================================================\n",
            "dense_7 (Dense)              (None, 32)                160       \n",
            "_________________________________________________________________\n",
            "activation_7 (Activation)    (None, 32)                0         \n",
            "_________________________________________________________________\n",
            "dense_8 (Dense)              (None, 32)                1056      \n",
            "_________________________________________________________________\n",
            "activation_8 (Activation)    (None, 32)                0         \n",
            "_________________________________________________________________\n",
            "dense_9 (Dense)              (None, 3)                 99        \n",
            "_________________________________________________________________\n",
            "activation_9 (Activation)    (None, 3)                 0         \n",
            "=================================================================\n",
            "Total params: 1,315\n",
            "Trainable params: 1,315\n",
            "Non-trainable params: 0\n",
            "_________________________________________________________________\n",
            "None\n"
          ],
          "name": "stdout"
        }
      ]
    },
    {
      "cell_type": "markdown",
      "metadata": {
        "id": "fe0ayRSi_I9t",
        "colab_type": "text"
      },
      "source": [
        "## 学習\n",
        "訓練用の入力データと正解データを使って、モデルを訓練します。  \n",
        "**fit**: モデルを訓練する  \n",
        "https://keras.io/ja/models/sequential/#fit  "
      ]
    },
    {
      "cell_type": "code",
      "metadata": {
        "id": "9GFCnKqR_Qpj",
        "colab_type": "code",
        "outputId": "d063e816-ed21-4237-f08d-2234b5e14b3b",
        "colab": {
          "base_uri": "https://localhost:8080/",
          "height": 1000
        }
      },
      "source": [
        "history = model.fit(x_train, t_train, nb_epoch=30, batch_size=8)"
      ],
      "execution_count": 18,
      "outputs": [
        {
          "output_type": "stream",
          "text": [
            "/usr/local/lib/python3.6/dist-packages/ipykernel_launcher.py:1: UserWarning: The `nb_epoch` argument in `fit` has been renamed `epochs`.\n",
            "  \"\"\"Entry point for launching an IPython kernel.\n"
          ],
          "name": "stderr"
        },
        {
          "output_type": "stream",
          "text": [
            "Epoch 1/30\n",
            "112/112 [==============================] - 0s 503us/step - loss: 1.1845 - acc: 0.3750\n",
            "Epoch 2/30\n",
            "112/112 [==============================] - 0s 148us/step - loss: 1.1082 - acc: 0.4911\n",
            "Epoch 3/30\n",
            "112/112 [==============================] - 0s 152us/step - loss: 1.0463 - acc: 0.5446\n",
            "Epoch 4/30\n",
            "112/112 [==============================] - 0s 154us/step - loss: 0.9912 - acc: 0.5357\n",
            "Epoch 5/30\n",
            "112/112 [==============================] - 0s 164us/step - loss: 0.9383 - acc: 0.5625\n",
            "Epoch 6/30\n",
            "112/112 [==============================] - 0s 170us/step - loss: 0.8867 - acc: 0.6429\n",
            "Epoch 7/30\n",
            "112/112 [==============================] - 0s 159us/step - loss: 0.8376 - acc: 0.7679\n",
            "Epoch 8/30\n",
            "112/112 [==============================] - 0s 140us/step - loss: 0.7897 - acc: 0.8482\n",
            "Epoch 9/30\n",
            "112/112 [==============================] - 0s 148us/step - loss: 0.7438 - acc: 0.8571\n",
            "Epoch 10/30\n",
            "112/112 [==============================] - 0s 143us/step - loss: 0.7006 - acc: 0.8482\n",
            "Epoch 11/30\n",
            "112/112 [==============================] - 0s 144us/step - loss: 0.6631 - acc: 0.8571\n",
            "Epoch 12/30\n",
            "112/112 [==============================] - 0s 142us/step - loss: 0.6282 - acc: 0.8571\n",
            "Epoch 13/30\n",
            "112/112 [==============================] - 0s 159us/step - loss: 0.5967 - acc: 0.8571\n",
            "Epoch 14/30\n",
            "112/112 [==============================] - 0s 165us/step - loss: 0.5683 - acc: 0.8661\n",
            "Epoch 15/30\n",
            "112/112 [==============================] - 0s 151us/step - loss: 0.5427 - acc: 0.8661\n",
            "Epoch 16/30\n",
            "112/112 [==============================] - 0s 146us/step - loss: 0.5196 - acc: 0.8661\n",
            "Epoch 17/30\n",
            "112/112 [==============================] - 0s 158us/step - loss: 0.4989 - acc: 0.8661\n",
            "Epoch 18/30\n",
            "112/112 [==============================] - 0s 200us/step - loss: 0.4794 - acc: 0.8661\n",
            "Epoch 19/30\n",
            "112/112 [==============================] - 0s 157us/step - loss: 0.4612 - acc: 0.8750\n",
            "Epoch 20/30\n",
            "112/112 [==============================] - 0s 151us/step - loss: 0.4453 - acc: 0.8750\n",
            "Epoch 21/30\n",
            "112/112 [==============================] - 0s 149us/step - loss: 0.4305 - acc: 0.8750\n",
            "Epoch 22/30\n",
            "112/112 [==============================] - 0s 144us/step - loss: 0.4162 - acc: 0.8750\n",
            "Epoch 23/30\n",
            "112/112 [==============================] - 0s 144us/step - loss: 0.4040 - acc: 0.8750\n",
            "Epoch 24/30\n",
            "112/112 [==============================] - 0s 214us/step - loss: 0.3917 - acc: 0.8750\n",
            "Epoch 25/30\n",
            "112/112 [==============================] - 0s 164us/step - loss: 0.3802 - acc: 0.8750\n",
            "Epoch 26/30\n",
            "112/112 [==============================] - 0s 141us/step - loss: 0.3704 - acc: 0.8750\n",
            "Epoch 27/30\n",
            "112/112 [==============================] - 0s 154us/step - loss: 0.3609 - acc: 0.8750\n",
            "Epoch 28/30\n",
            "112/112 [==============================] - 0s 145us/step - loss: 0.3515 - acc: 0.8839\n",
            "Epoch 29/30\n",
            "112/112 [==============================] - 0s 142us/step - loss: 0.3441 - acc: 0.8839\n",
            "Epoch 30/30\n",
            "112/112 [==============================] - 0s 140us/step - loss: 0.3348 - acc: 0.8929\n"
          ],
          "name": "stdout"
        }
      ]
    },
    {
      "cell_type": "markdown",
      "metadata": {
        "id": "A29cxq1qGYq2",
        "colab_type": "text"
      },
      "source": [
        "## 学習の推移\n",
        "Historyには学習の経過が記録されています。  \n",
        "これを使って、学習の推移を表示します。"
      ]
    },
    {
      "cell_type": "code",
      "metadata": {
        "id": "bL97UMnRGY9V",
        "colab_type": "code",
        "outputId": "de6d53ad-cb2d-4406-8567-fe5636b835a9",
        "colab": {
          "base_uri": "https://localhost:8080/",
          "height": 265
        }
      },
      "source": [
        "import matplotlib.pyplot as plt\n",
        "\n",
        "hist_loss = history.history['loss']  # 訓練用データの誤差\n",
        "hist_acc = history.history['acc']  # 検証用データの誤差\n",
        "\n",
        "plt.plot(np.arange(len(hist_loss)), hist_loss, label='loss')\n",
        "plt.plot(np.arange(len(hist_acc)), hist_acc, label='acc')\n",
        "plt.legend()\n",
        "plt.show()"
      ],
      "execution_count": 19,
      "outputs": [
        {
          "output_type": "display_data",
          "data": {
            "image/png": "[encoded data removed]",
            "text/plain": [
              "<Figure size 432x288 with 1 Axes>"
            ]
          },
          "metadata": {
            "tags": [],
            "needs_background": "light"
          }
        }
      ]
    },
    {
      "cell_type": "markdown",
      "metadata": {
        "id": "0bKt6ksiBewH",
        "colab_type": "text"
      },
      "source": [
        "## 評価\n",
        "モデルの評価を行います。  \n",
        "**evaluate**: 入力、正解データから誤差などを計算します。  \n",
        "https://keras.io/ja/models/sequential/#evaluate"
      ]
    },
    {
      "cell_type": "code",
      "metadata": {
        "id": "jTsGsQoQCdhe",
        "colab_type": "code",
        "outputId": "26fbc82c-a403-463f-eaa9-4625b8f49186",
        "colab": {
          "base_uri": "https://localhost:8080/",
          "height": 51
        }
      },
      "source": [
        "loss, accuracy = model.evaluate(x_test, t_test)\n",
        "print(loss, accuracy)"
      ],
      "execution_count": 20,
      "outputs": [
        {
          "output_type": "stream",
          "text": [
            "38/38 [==============================] - 0s 680us/step\n",
            "0.35859968395609604 0.8947368264198303\n"
          ],
          "name": "stdout"
        }
      ]
    },
    {
      "cell_type": "markdown",
      "metadata": {
        "id": "5ewSyftmChON",
        "colab_type": "text"
      },
      "source": [
        "## 予測\n",
        "学習済みのモデルを使って予測を行います。  \n",
        "**predict**: モデルを使って入力を出力に変換します。  \n",
        "https://keras.io/ja/models/sequential/#predict"
      ]
    },
    {
      "cell_type": "code",
      "metadata": {
        "id": "nIURso4FDPKt",
        "colab_type": "code",
        "outputId": "bca5e881-96b2-4d68-fe56-5db1cbef8394",
        "colab": {
          "base_uri": "https://localhost:8080/",
          "height": 663
        }
      },
      "source": [
        "model.predict(x_test)"
      ],
      "execution_count": 21,
      "outputs": [
        {
          "output_type": "execute_result",
          "data": {
            "text/plain": [
              "array([[0.97497034, 0.01474576, 0.01028391],\n",
              "       [0.97543937, 0.01584746, 0.00871318],\n",
              "       [0.99206525, 0.00485481, 0.00307998],\n",
              "       [0.9810215 , 0.01157178, 0.00740675],\n",
              "       [0.9916055 , 0.00495672, 0.00343777],\n",
              "       [0.01447007, 0.1682525 , 0.81727743],\n",
              "       [0.08166166, 0.6075046 , 0.3108337 ],\n",
              "       [0.07028583, 0.48706645, 0.44264773],\n",
              "       [0.06493144, 0.38204652, 0.5530221 ],\n",
              "       [0.05289594, 0.3708497 , 0.57625437],\n",
              "       [0.02823652, 0.5098269 , 0.4619366 ],\n",
              "       [0.97813064, 0.01309287, 0.00877639],\n",
              "       [0.02860274, 0.53095627, 0.440441  ],\n",
              "       [0.07777148, 0.405295  , 0.51693344],\n",
              "       [0.06648429, 0.2532439 , 0.68027174],\n",
              "       [0.07914127, 0.49504536, 0.4258134 ],\n",
              "       [0.04124888, 0.22400218, 0.73474896],\n",
              "       [0.03539504, 0.2606573 , 0.7039476 ],\n",
              "       [0.98712105, 0.00758198, 0.00529704],\n",
              "       [0.0257832 , 0.18363215, 0.7905847 ],\n",
              "       [0.14293127, 0.57139534, 0.28567338],\n",
              "       [0.9717773 , 0.01661289, 0.01160982],\n",
              "       [0.03459933, 0.34875232, 0.6166484 ],\n",
              "       [0.02882786, 0.14863466, 0.8225375 ],\n",
              "       [0.9802837 , 0.01162049, 0.00809585],\n",
              "       [0.04096347, 0.45442685, 0.50460964],\n",
              "       [0.10636344, 0.35813576, 0.53550076],\n",
              "       [0.98639804, 0.00807703, 0.00552497],\n",
              "       [0.10355149, 0.46437097, 0.43207753],\n",
              "       [0.07493556, 0.7022688 , 0.2227957 ],\n",
              "       [0.08286095, 0.287715  , 0.629424  ],\n",
              "       [0.07286317, 0.6558333 , 0.27130353],\n",
              "       [0.9811492 , 0.01096651, 0.0078843 ],\n",
              "       [0.974572  , 0.0149245 , 0.01050359],\n",
              "       [0.00304422, 0.07511368, 0.9218421 ],\n",
              "       [0.04600397, 0.2320105 , 0.7219855 ],\n",
              "       [0.0852056 , 0.7173218 , 0.19747254],\n",
              "       [0.08243133, 0.5180574 , 0.39951122]], dtype=float32)"
            ]
          },
          "metadata": {
            "tags": []
          },
          "execution_count": 21
        }
      ]
    },
    {
      "cell_type": "markdown",
      "metadata": {
        "id": "UYDFfPrzIVQ4",
        "colab_type": "text"
      },
      "source": [
        "## モデルの保存\n",
        "学習済みのモデルを保存します。  \n",
        "**save**: モデルを保存します。  \n",
        "**load_model**: 保存されたモデルを読み込みます。    \n",
        "https://keras.io/ja/getting-started/faq/#_4  "
      ]
    },
    {
      "cell_type": "code",
      "metadata": {
        "id": "9bfmNLLYIW7m",
        "colab_type": "code",
        "outputId": "eda456bd-17bf-42e6-c541-d20416147b8d",
        "colab": {
          "base_uri": "https://localhost:8080/",
          "height": 34
        }
      },
      "source": [
        "from keras.models import load_model\n",
        "\n",
        "model.save('model.h5')\n",
        "load_model('model.h5')"
      ],
      "execution_count": 22,
      "outputs": [
        {
          "output_type": "execute_result",
          "data": {
            "text/plain": [
              "<keras.engine.sequential.Sequential at 0x7f6022ed0b70>"
            ]
          },
          "metadata": {
            "tags": []
          },
          "execution_count": 22
        }
      ]
    },
    {
      "cell_type": "code",
      "metadata": {
        "id": "rvRx4E-RWD5p",
        "colab_type": "code",
        "colab": {}
      },
      "source": [
        ""
      ],
      "execution_count": 0,
      "outputs": []
    }
  ]
}